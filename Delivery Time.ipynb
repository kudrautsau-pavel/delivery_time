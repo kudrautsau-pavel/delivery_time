{
 "cells": [
  {
   "cell_type": "code",
   "outputs": [],
   "source": [
    "import pandas as pd\n",
    "import numpy as np\n",
    "import matplotlib.pyplot as plt\n",
    "import seaborn as sns"
   ],
   "metadata": {
    "collapsed": false,
    "ExecuteTime": {
     "end_time": "2024-03-01T20:11:01.190534Z",
     "start_time": "2024-03-01T20:11:01.188503Z"
    }
   },
   "id": "f380b511d51cc30e",
   "execution_count": 1
  },
  {
   "cell_type": "code",
   "outputs": [
    {
     "name": "stdout",
     "output_type": "stream",
     "text": [
      "Issue id    0\n",
      "Created     0\n",
      "Resolved    0\n",
      "dtype: int64\n"
     ]
    }
   ],
   "source": [
    "# Load data from CSV file\n",
    "df = pd.read_csv('Jira_exported_data.csv', sep=';')\n",
    "\n",
    "print(df.isnull().sum())"
   ],
   "metadata": {
    "collapsed": false,
    "ExecuteTime": {
     "end_time": "2024-03-01T20:11:03.020135Z",
     "start_time": "2024-03-01T20:11:03.014270Z"
    }
   },
   "id": "88870d28b225dc87",
   "execution_count": 2
  },
  {
   "cell_type": "code",
   "outputs": [
    {
     "name": "stdout",
     "output_type": "stream",
     "text": [
      "Issue id                  int64\n",
      "Created          datetime64[ns]\n",
      "Resolved         datetime64[ns]\n",
      "Delivery_Time             int64\n",
      "dtype: object\n"
     ]
    }
   ],
   "source": [
    "def convert_to_datetime(df):\n",
    "    \"\"\"\n",
    "    Converts 'Created' and 'Resolved' columns to datetime format\n",
    "    \"\"\"\n",
    "    try:\n",
    "        df['Created'] = pd.to_datetime(df['Created'])\n",
    "        df['Resolved'] = pd.to_datetime(df['Resolved'])\n",
    "    except Exception as e:\n",
    "        print(f\"Error in converting columns to datetime: {str(e)}\")\n",
    "        raise e # Re-raise the exception to see the full traceback\n",
    "    \"\"\"Calculates 'Delivery_Time'in days with correct rounding up and plots its boxplot\"\"\"\n",
    "\n",
    "    df.loc[:, 'Delivery_Time'] = np.ceil((df['Resolved'] - df['Created']).dt.total_seconds() / 86400).astype(int)\n",
    "        \n",
    "convert_to_datetime(df)\n",
    "\n",
    "print(df.dtypes) #Check the conversion was applied for Created and Resolved: should be datetime64[ns]\n"
   ],
   "metadata": {
    "collapsed": false,
    "ExecuteTime": {
     "end_time": "2024-03-01T20:11:06.588381Z",
     "start_time": "2024-03-01T20:11:06.581078Z"
    }
   },
   "id": "cb27c41b400ef4c7",
   "execution_count": 3
  },
  {
   "cell_type": "code",
   "outputs": [
    {
     "name": "stdout",
     "output_type": "stream",
     "text": [
      "   Issue id             Created            Resolved  Delivery_Time\n",
      "0    293603 2024-02-22 09:38:00 2024-02-22 17:32:00              1\n",
      "1    293491 2024-02-21 18:44:00 2024-02-22 11:43:00              1\n",
      "2    292985 2024-02-20 10:09:00 2024-02-22 21:54:00              3\n",
      "3    292965 2024-02-19 19:41:00 2024-02-20 13:53:00              1\n",
      "4    292956 2024-02-19 18:23:00 2024-02-20 10:54:00              1\n"
     ]
    }
   ],
   "source": [
    "print(df.head())"
   ],
   "metadata": {
    "collapsed": false,
    "ExecuteTime": {
     "end_time": "2024-03-01T20:11:08.843865Z",
     "start_time": "2024-03-01T20:11:08.840068Z"
    }
   },
   "id": "3dcd5fdf22d19b39",
   "execution_count": 4
  },
  {
   "cell_type": "code",
   "outputs": [
    {
     "name": "stdout",
     "output_type": "stream",
     "text": [
      "Number of rows where Delivery_Time is zero: 1\n",
      "     Issue id             Created            Resolved  Delivery_Time\n",
      "361    274647 2023-11-06 09:44:00 2023-11-06 09:44:00              0\n"
     ]
    }
   ],
   "source": [
    "# Filter dataframe for rows where Delivery_Time is zero\n",
    "df_zero_delivery = df[df['Delivery_Time'] == 0]\n",
    "\n",
    "# Display the count of rows and the rows\n",
    "print(f\"Number of rows where Delivery_Time is zero: {df_zero_delivery.shape[0]}\")\n",
    "print(df_zero_delivery)"
   ],
   "metadata": {
    "collapsed": false,
    "ExecuteTime": {
     "end_time": "2024-03-01T20:11:14.447040Z",
     "start_time": "2024-03-01T20:11:14.441290Z"
    }
   },
   "id": "9c318620b3edc4d1",
   "execution_count": 5
  },
  {
   "cell_type": "code",
   "outputs": [
    {
     "name": "stdout",
     "output_type": "stream",
     "text": [
      "     Issue id             Created            Resolved  Delivery_Time\n",
      "0      293603 2024-02-22 09:38:00 2024-02-22 17:32:00              1\n",
      "1      293491 2024-02-21 18:44:00 2024-02-22 11:43:00              1\n",
      "2      292985 2024-02-20 10:09:00 2024-02-22 21:54:00              3\n",
      "3      292965 2024-02-19 19:41:00 2024-02-20 13:53:00              1\n",
      "4      292956 2024-02-19 18:23:00 2024-02-20 10:54:00              1\n",
      "..        ...                 ...                 ...            ...\n",
      "369    274348 2023-11-02 11:28:00 2023-11-03 15:19:00              2\n",
      "370    274313 2023-11-01 22:15:00 2023-11-06 12:01:00              5\n",
      "371    274260 2023-11-01 14:17:00 2023-11-02 21:33:00              2\n",
      "372    274231 2023-11-01 11:15:00 2023-11-14 12:40:00             14\n",
      "373    274217 2023-11-01 10:13:00 2023-11-02 15:07:00              2\n",
      "\n",
      "[373 rows x 4 columns]\n"
     ]
    }
   ],
   "source": [
    "# Removing rows where Delivery_Time is zero\n",
    "df = df[df['Delivery_Time'] != 0]\n",
    "\n",
    "# Display the updated DataFrame\n",
    "print(df)"
   ],
   "metadata": {
    "collapsed": false,
    "ExecuteTime": {
     "end_time": "2024-03-01T20:11:17.594876Z",
     "start_time": "2024-03-01T20:11:17.584804Z"
    }
   },
   "id": "24bb67c78e21f034",
   "execution_count": 6
  },
  {
   "cell_type": "code",
   "outputs": [
    {
     "name": "stdout",
     "output_type": "stream",
     "text": [
      "Statistics for Delivery_Time:\n",
      "count    373.000000\n",
      "mean      10.142091\n",
      "std       12.685131\n",
      "min        1.000000\n",
      "25%        1.000000\n",
      "50%        5.000000\n",
      "75%       14.000000\n",
      "95%       34.400000\n",
      "99%       59.560000\n",
      "max       78.000000\n",
      "Name: Delivery_Time, dtype: float64\n",
      "Skewness: 2.1847\n",
      "Kurtosis: 5.7967\n"
     ]
    },
    {
     "data": {
      "text/plain": "<Figure size 1000x500 with 1 Axes>",
      "image/png": "[encoded data removed]"
     },
     "metadata": {},
     "output_type": "display_data"
    }
   ],
   "source": [
    "# Initialize stats_df as an empty DataFrame\n",
    "stats_df = pd.DataFrame()\n",
    "\n",
    "\n",
    "def plot_distribution_and_stats(df, column_name='Delivery_Time'):\n",
    "    column_data = df[column_name]\n",
    "    column_stats = column_data.describe(percentiles=[.25, .5, .75, .95, .99])\n",
    "    skewness = column_data.skew()\n",
    "    kurtosis = column_data.kurt()\n",
    "    print(f\"Statistics for {column_name}:\")\n",
    "    print(column_stats)\n",
    "    print(f'Skewness: {skewness:.4f}')\n",
    "    print(f'Kurtosis: {kurtosis:.4f}')\n",
    "    global stats_df\n",
    "    new_df = pd.DataFrame({\n",
    "        'Column': [column_name],\n",
    "        'Mean': [column_stats['mean']],\n",
    "        'Median': [column_stats['50%']],\n",
    "        'Std Dev': [column_stats['std']],\n",
    "        '25%': [column_stats['25%']],\n",
    "        '75%': [column_stats['75%']],\n",
    "        '95%': [column_stats['95%']],\n",
    "        '99%': [column_stats['99%']],\n",
    "        'Skewness': [skewness],\n",
    "        'Kurtosis': [kurtosis]\n",
    "    })\n",
    "    stats_df = pd.concat([stats_df, new_df], ignore_index=True)\n",
    "    plt.figure(figsize=(10, 5))\n",
    "    sns.histplot(column_data, kde=True, bins=30)\n",
    "    plt.axvline(column_stats['mean'], color='r', linestyle='--')\n",
    "    plt.axvline(column_stats['50%'], color='g', linestyle='-')\n",
    "    plt.text(column_stats['mean'], plt.ylim()[1] * 0.95, f'Mean: {column_stats[\"mean\"]:.2f}', color='r', ha='right')\n",
    "    plt.text(column_stats['50%'], plt.ylim()[1] * 0.85, f'Median: {column_stats[\"50%\"]:.2f}', color='g', ha='right')\n",
    "    plt.text(column_stats['std'], plt.ylim()[1] * 0.80, f'Standard Deviation: {column_stats[\"std\"]:.2f}', color='b',\n",
    "             ha='right')\n",
    "    plt.text(skewness, plt.ylim()[1] * 0.75, f'Skewness: {skewness:.2f}', color='purple', ha='right')\n",
    "    plt.xlabel(column_name)\n",
    "    plt.ylabel('Frequency')\n",
    "    plt.title(f'Distribution of {column_name}')\n",
    "    plt.show()\n",
    "\n",
    "\n",
    "# pass the name of the column here in 'your_column_name'\n",
    "plot_distribution_and_stats(df, 'Delivery_Time')\n",
    "\n"
   ],
   "metadata": {
    "collapsed": false,
    "ExecuteTime": {
     "end_time": "2024-03-01T20:11:28.839668Z",
     "start_time": "2024-03-01T20:11:28.189113Z"
    }
   },
   "id": "69349c8b3be6923b",
   "execution_count": 7
  },
  {
   "cell_type": "code",
   "outputs": [
    {
     "name": "stdout",
     "output_type": "stream",
     "text": [
      "Number of rows where Delivery_Time is zero: 1\n",
      "     Issue id             Created            Resolved  Delivery_Time\n",
      "361    274647 2023-11-06 09:44:00 2023-11-06 09:44:00              0\n"
     ]
    }
   ],
   "source": [
    "# Filter dataframe for rows where Delivery_Time is zero\n",
    "df_zero_delivery = df[df['Delivery_Time'] == 0]\n",
    "\n",
    "# Display the count of rows and the rows\n",
    "print(f\"Number of rows where Delivery_Time is zero: {df_zero_delivery.shape[0]}\")\n",
    "print(df_zero_delivery)"
   ],
   "metadata": {
    "collapsed": false,
    "ExecuteTime": {
     "end_time": "2024-03-01T20:07:01.383331Z",
     "start_time": "2024-03-01T20:07:01.372434Z"
    }
   },
   "id": "3e6983387ae5533",
   "execution_count": 11
  }
 ],
 "metadata": {
  "kernelspec": {
   "name": ".venv",
   "language": "python",
   "display_name": ".venv"
  },
  "language_info": {
   "codemirror_mode": {
    "name": "ipython",
    "version": 3
   },
   "file_extension": ".py",
   "mimetype": "text/x-python",
   "name": "python",
   "nbconvert_exporter": "python",
   "pygments_lexer": "ipython3",
   "version": "3.11.5"
  }
 },
 "nbformat": 4,
 "nbformat_minor": 5
}
