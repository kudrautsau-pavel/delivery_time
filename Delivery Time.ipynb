{
 "cells": [
  {
   "cell_type": "code",
   "outputs": [],
   "source": [
    "import pandas as pd\n",
    "import numpy as np\n",
    "import matplotlib.pyplot as plt\n",
    "import seaborn as sns"
   ],
   "metadata": {
    "collapsed": false,
    "ExecuteTime": {
     "end_time": "2024-02-25T18:01:29.870804Z",
     "start_time": "2024-02-25T18:01:29.867826Z"
    }
   },
   "id": "f380b511d51cc30e",
   "execution_count": 32
  },
  {
   "cell_type": "code",
   "outputs": [
    {
     "name": "stdout",
     "output_type": "stream",
     "text": [
      "Issue Type      0\n",
      "Summary         0\n",
      "Status          0\n",
      "Updated         0\n",
      "Issue key       0\n",
      "Issue id        0\n",
      "Parent id     235\n",
      "Created         0\n",
      "Priority        0\n",
      "Reporter        0\n",
      "Assignee       21\n",
      "Resolved        0\n",
      "dtype: int64\n"
     ]
    }
   ],
   "source": [
    "# Load data from CSV file\n",
    "df = pd.read_csv('/Users/PavelKudrautsau/Downloads/Jira_exported_data.csv')\n",
    "\n",
    "print(df.isnull().sum())"
   ],
   "metadata": {
    "collapsed": false,
    "ExecuteTime": {
     "end_time": "2024-02-25T18:01:29.880687Z",
     "start_time": "2024-02-25T18:01:29.872518Z"
    }
   },
   "id": "88870d28b225dc87",
   "execution_count": 33
  },
  {
   "cell_type": "code",
   "outputs": [],
   "source": [
    "def convert_to_datetime(df):\n",
    "    \"\"\"\n",
    "    Converts 'Created' and 'Resolved' columns to datetime format\n",
    "    \"\"\"\n",
    "    try:\n",
    "        df['Created'] = pd.to_datetime(df['Created'])\n",
    "        df['Resolved'] = pd.to_datetime(df['Resolved'])\n",
    "    except Exception as e:\n",
    "        print(f\"Error in converting columns to datetime: {str(e)}\")\n",
    "        raise e # Re-raise the exception to see the full traceback\n",
    "        \n",
    "convert_to_datetime(df)\n",
    "\n",
    "print(df.dtypes) #Check the conversion was applied for Created and Resolved: should be datetime64[ns]"
   ],
   "metadata": {
    "collapsed": false
   },
   "id": "cb27c41b400ef4c7"
  },
  {
   "cell_type": "code",
   "outputs": [],
   "source": [
    "def calculate_and_plot_delivery(df):\n",
    "    \"\"\"\n",
    "    Calculates 'Delivery_Time'in days with correct rounding up and plots its boxplot \n",
    "    \"\"\"\n",
    "    \n",
    "    df.loc[:, 'Delivery_Time'] = np.ceil((df['Resolved'] - df['Created']).dt.total_seconds() / 86400).astype(int)\n",
    "    plt.figure(figsize=(10, 5))\n",
    "    df.boxplot(column=['Delivery_Time'])\n",
    "    plt.show()\n",
    "    \n",
    "calculate_and_plot_delivery(df)"
   ],
   "metadata": {
    "collapsed": false
   },
   "id": "6884745a294cb9c8"
  },
  {
   "cell_type": "code",
   "outputs": [],
   "source": [
    "#Getting distribution before the cleaning\n",
    "def plot_distribution_and_stats(df):\n",
    "    \"\"\"\n",
    "    Calculates mean and median of 'Delivery_Time', and plots its distribution with custom x and y ticks.\n",
    "    \"\"\"\n",
    "    mean_delivery_time = df['Delivery_Time'].mean()\n",
    "    median_delivery_time = df['Delivery_Time'].median()\n",
    "\n",
    "    plt.figure(figsize=(10, 5))\n",
    "    sns.histplot(df['Delivery_Time'], kde=True, bins=30)\n",
    "    plt.axvline(mean_delivery_time, color='r', linestyle='--')\n",
    "    plt.axvline(median_delivery_time, color='g', linestyle='-')\n",
    "\n",
    "    # Add text annotations for mean and median\n",
    "    plt.text(mean_delivery_time, plt.ylim()[1]*0.95, f'Mean: {mean_delivery_time:.2f}', \n",
    "             color='r', ha='right')\n",
    "    plt.text(median_delivery_time, plt.ylim()[1]*0.90, f'Median: {median_delivery_time:.2f}', \n",
    "             color='g', ha='right')\n",
    "\n",
    "    # Set custom ticks for x and y axes\n",
    "    plt.xticks([0, 5, 10, 15, 20, 25, 30, 35, 40, 50, 60, 70, 80, 90])  # Example x-ticks\n",
    "    plt.yticks([0, 10, 20, 30, 40, 50, 60, 70, 80, 90, 100, 110])      # Example y-ticks\n",
    "\n",
    "    plt.legend({'Mean': mean_delivery_time, 'Median': median_delivery_time})\n",
    "    plt.xlabel('Delivery_Time')\n",
    "    plt.ylabel('Frequency')\n",
    "    plt.title('Distribution of Projected Delivery Times')\n",
    "    plt.show()\n",
    "\n",
    "# usage\n",
    "plot_distribution_and_stats(df)"
   ],
   "metadata": {
    "collapsed": false
   },
   "id": "8ebe83162da9e537"
  },
  {
   "cell_type": "code",
   "outputs": [],
   "source": [
    "#Cleaning data from outlier\n",
    "Q1 = df['Delivery_Time'].quantile(0.25)\n",
    "Q3 = df['Delivery_Time'].quantile(0.75)\n",
    "IQR = Q3 - Q1\n",
    "one_and_half_IQR = 1.5 * IQR\n",
    "df = df[~((df['Delivery_Time'] < (Q1 - one_and_half_IQR)) | (df['Delivery_Time'] > (Q3 + one_and_half_IQR)))]"
   ],
   "metadata": {
    "collapsed": false
   },
   "id": "a98811b7e9a67541"
  },
  {
   "cell_type": "code",
   "outputs": [],
   "source": [
    "#Getting distribution after the cleaning\n",
    "def plot_distribution_and_stats(df):\n",
    "    \"\"\"\n",
    "    Calculates mean and median of 'Delivery_Time', and plots its distribution with custom x and y ticks.\n",
    "    \"\"\"\n",
    "    mean_delivery_time = df['Delivery_Time'].mean()\n",
    "    median_delivery_time = df['Delivery_Time'].median()\n",
    "\n",
    "    plt.figure(figsize=(10, 5))\n",
    "    sns.histplot(df['Delivery_Time'], kde=True, bins=30)\n",
    "    plt.axvline(mean_delivery_time, color='r', linestyle='--')\n",
    "    plt.axvline(median_delivery_time, color='g', linestyle='-')\n",
    "\n",
    "    # Add text annotations for mean and median\n",
    "    plt.text(mean_delivery_time, plt.ylim()[1]*0.95, f'Mean: {mean_delivery_time:.2f}', \n",
    "             color='r', ha='right')\n",
    "    plt.text(median_delivery_time, plt.ylim()[1]*0.90, f'Median: {median_delivery_time:.2f}', \n",
    "             color='g', ha='right')\n",
    "\n",
    "    # Set custom ticks for x and y axes\n",
    "    plt.xticks([0, 5, 10, 15, 20, 25, 30, 35, 40, 50, 60, 70, 80, 90])  # Example x-ticks\n",
    "    plt.yticks([0, 10, 20, 30, 40, 50, 60, 70, 80, 90, 100, 110])      # Example y-ticks\n",
    "\n",
    "    plt.legend({'Mean': mean_delivery_time, 'Median': median_delivery_time})\n",
    "    plt.xlabel('Delivery_Time')\n",
    "    plt.ylabel('Frequency')\n",
    "    plt.title('Distribution of Projected Delivery Times')\n",
    "    plt.show()\n",
    "\n",
    "# usage\n",
    "plot_distribution_and_stats(df)"
   ],
   "metadata": {
    "collapsed": false
   },
   "id": "87852bab604cee1c"
  },
  {
   "cell_type": "code",
   "outputs": [],
   "source": [
    "try:\n",
    "    print(df[['Created', 'Resolved', 'Delivery_Time']].head())\n",
    "except Exception as e:\n",
    "    print(f\"Error in getting data: {str(e)}\") "
   ],
   "metadata": {
    "collapsed": false
   },
   "id": "2970be5bb1c8fc16"
  },
  {
   "cell_type": "code",
   "outputs": [],
   "source": [
    "def monte_carlo_simulation(df, n_runs, n_tickets):\n",
    "    results = []\n",
    "    for _ in range(n_runs):\n",
    "        # Sample and then take the average of the sample\n",
    "        sample = df['Delivery_Time'].sample(n_tickets, replace=True).mean()\n",
    "        results.append(sample)\n",
    "    return results\n",
    "\n",
    "# Run the Monte Carlo simulation with the revised function\n",
    "simulation_results = monte_carlo_simulation(df, 1000000, 374)  # Adjust the number of runs and tickets as needed"
   ],
   "metadata": {
    "collapsed": false
   },
   "id": "7f4611476210624a"
  },
  {
   "cell_type": "code",
   "outputs": [],
   "source": [
    "# Create a DataFrame from the simulation results\n",
    "results_df = pd.DataFrame(simulation_results, columns=['Projected Delivery Time'])\n",
    "\n",
    "# Calculate statistical measures\n",
    "average_time = results_df['Projected Delivery Time'].mean()\n",
    "median_time = results_df['Projected Delivery Time'].median()\n",
    "confidence_interval = np.percentile(results_df['Projected Delivery Time'], [2.5, 97.5])\n",
    "\n",
    "# Print out the results\n",
    "print(f\"Average Projected Delivery Time: {average_time} days\")\n",
    "print(f\"Median Projected Delivery Time: {median_time} days\")\n",
    "print(f\"95% Confidence Interval for Projected Delivery Time: {confidence_interval} days\")\n",
    "results_df.describe()"
   ],
   "metadata": {
    "collapsed": false
   },
   "id": "1616302f0e4701f5"
  },
  {
   "cell_type": "code",
   "outputs": [],
   "source": [
    "# Assuming 'results_df' is your DataFrame with the simulation results\n",
    "# Calculate the average, median, and standard deviation\n",
    "average_time = results_df['Projected Delivery Time'].mean()\n",
    "median_time = results_df['Projected Delivery Time'].median()\n",
    "std_dev = results_df['Projected Delivery Time'].std()\n",
    "eight_sigmas = std_dev * 8\n",
    "\n",
    "# Plot the histogram\n",
    "sns.histplot(results_df['Projected Delivery Time'], kde=True)\n",
    "\n",
    "# Add vertical lines for mean, median\n",
    "plt.axvline(average_time, color='r', linestyle='--', label=f'Mean: {average_time:.2f} days')\n",
    "plt.axvline(median_time, color='g', linestyle='-', label=f'Median: {median_time:.2f} days')\n",
    "\n",
    "# Add shaded area for 8 sigmas (mean +/- 4 sigmas covers approximately 8 sigmas in total)\n",
    "plt.axvspan(average_time - 4*std_dev, average_time + 4*std_dev, alpha=0.2, color='yellow', label='8 Sigmas Range')\n",
    "\n",
    "# Add legend and labels\n",
    "plt.legend()\n",
    "plt.xlabel('Projected Delivery Time (days)')\n",
    "plt.ylabel('Frequency')\n",
    "plt.title('Distribution of Projected Delivery Times with Statistical Indicators')\n",
    "plt.show()"
   ],
   "metadata": {
    "collapsed": false
   },
   "id": "dd2e0f34f826e5d"
  },
  {
   "cell_type": "code",
   "outputs": [],
   "source": [
    "# Assuming 'results_df' is your DataFrame with the simulation results\n",
    "average_time = results_df['Projected Delivery Time'].mean()\n",
    "median_time = results_df['Projected Delivery Time'].median()\n",
    "std_dev = results_df['Projected Delivery Time'].std()\n",
    "\n",
    "within_1_sigma = ((average_time - std_dev) <= results_df['Projected Delivery Time']) & (results_df['Projected Delivery Time'] <= (average_time + std_dev))\n",
    "within_2_sigma = ((average_time - 2*std_dev) <= results_df['Projected Delivery Time']) & (results_df['Projected Delivery Time'] <= (average_time + 2*std_dev))\n",
    "within_3_sigma = ((average_time - 3*std_dev) <= results_df['Projected Delivery Time']) & (results_df['Projected Delivery Time'] <= (average_time + 3*std_dev))\n",
    "\n",
    "count_within_1_sigma = within_1_sigma.sum()\n",
    "count_within_2_sigma = within_2_sigma.sum() - count_within_1_sigma\n",
    "count_within_3_sigma = within_3_sigma.sum() - within_2_sigma.sum()\n",
    "\n",
    "sns.histplot(results_df['Projected Delivery Time'], kde=True)\n",
    "\n",
    "plt.axvline(average_time, color='r', linestyle='--', label=f'Mean: {average_time:.2f} days')\n",
    "plt.axvline(median_time, color='g', linestyle='-', label=f'Median: {median_time:.2f} days')\n",
    "\n",
    "plt.axvspan(average_time - std_dev, average_time + std_dev, alpha=0.3, color='blue', label=f'1 Sigma Range (n={count_within_1_sigma})')\n",
    "plt.axvspan(average_time - 2*std_dev, average_time + 2*std_dev, alpha=0.2, color='orange', label=f'2 Sigma Range (n={count_within_2_sigma})')\n",
    "plt.axvspan(average_time - 3*std_dev, average_time + 3*std_dev, alpha=0.1, color='green', label=f'3 Sigma Range (n={count_within_3_sigma})')\n",
    "\n",
    "plt.legend(loc='upper right')\n",
    "plt.xlabel('Projected Delivery Time (days)')\n",
    "plt.ylabel('Frequency')\n",
    "plt.title('Distribution of Projected Delivery Times with Sigma Ranges')\n",
    "plt.show()\n",
    "\n"
   ],
   "metadata": {
    "collapsed": false
   },
   "id": "9d38d0dcfe750fd6"
  }
 ],
 "metadata": {
  "kernelspec": {
   "name": ".venv",
   "language": "python",
   "display_name": ".venv"
  },
  "language_info": {
   "codemirror_mode": {
    "name": "ipython",
    "version": 3
   },
   "file_extension": ".py",
   "mimetype": "text/x-python",
   "name": "python",
   "nbconvert_exporter": "python",
   "pygments_lexer": "ipython3",
   "version": "3.11.5"
  }
 },
 "nbformat": 4,
 "nbformat_minor": 5
}
